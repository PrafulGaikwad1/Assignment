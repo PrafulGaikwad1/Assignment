{
 "cells": [
  {
   "cell_type": "code",
   "execution_count": 1,
   "id": "085dd0cf-c321-4d8b-8805-39a46a071136",
   "metadata": {},
   "outputs": [],
   "source": [
    "import requests\n",
    "import pandas as pd\n",
    "import matplotlib.pyplot as plt\n",
    "import seaborn as sns"
   ]
  },
  {
   "cell_type": "code",
   "execution_count": 2,
   "id": "09418c76-55d9-4980-b1ee-d4ab794018b8",
   "metadata": {},
   "outputs": [],
   "source": [
    "# Replace with your actual API key\n",
    "API_KEY = \"734fd00c4242e4ee162e4aa7911be027\"  \n",
    "BASE_URL = \"https://api.openweathermap.org/data/2.5/weather\""
   ]
  },
  {
   "cell_type": "code",
   "execution_count": 3,
   "id": "b66ca0a8-d9fd-4b95-a3a2-c0426fabe06c",
   "metadata": {},
   "outputs": [],
   "source": [
    " def get_weather(city):\n",
    "##Fetching weather data for city.\n",
    "    params = {\n",
    "        \"q\": city,\n",
    "        \"appid\": API_KEY,\n",
    "        \"units\": \"metric\"\n",
    "    }\n",
    "    \n",
    "    response = requests.get(BASE_URL, params=params)\n",
    "    \n",
    "    if response.status_code == 200:\n",
    "        data = response.json()\n",
    "        return {\n",
    "            \"City\": city,\n",
    "            \"Temperature\": data[\"main\"][\"temp\"],\n",
    "            \"Weather\": data[\"weather\"][0][\"description\"],\n",
    "            \"Humidity\": data[\"main\"][\"humidity\"]\n",
    "        }\n",
    "    else:\n",
    "        print(f\"Error fetching data for {city}: {response.status_code}\")\n",
    "        return None"
   ]
  },
  {
   "cell_type": "code",
   "execution_count": 4,
   "id": "330e4b5c-bf5d-4efd-b912-fab40781292e",
   "metadata": {},
   "outputs": [],
   "source": [
    "# List of cities\n",
    "cities = [\"New York\", \"London\", \"Tokyo\", \"Chicago\", \"Paris\"]"
   ]
  },
  {
   "cell_type": "code",
   "execution_count": 5,
   "id": "b503e6e5-a70b-4a49-9fa7-4c97f7166df7",
   "metadata": {},
   "outputs": [],
   "source": [
    "# Fetch weather data\n",
    "weather_data = [get_weather(city) for city in cities if get_weather(city)]"
   ]
  },
  {
   "cell_type": "code",
   "execution_count": 6,
   "id": "78eecc15-6b06-481c-a03e-8b56f31988cc",
   "metadata": {},
   "outputs": [
    {
     "data": {
      "text/html": [
       "<div>\n",
       "<style scoped>\n",
       "    .dataframe tbody tr th:only-of-type {\n",
       "        vertical-align: middle;\n",
       "    }\n",
       "\n",
       "    .dataframe tbody tr th {\n",
       "        vertical-align: top;\n",
       "    }\n",
       "\n",
       "    .dataframe thead th {\n",
       "        text-align: right;\n",
       "    }\n",
       "</style>\n",
       "<table border=\"1\" class=\"dataframe\">\n",
       "  <thead>\n",
       "    <tr style=\"text-align: right;\">\n",
       "      <th></th>\n",
       "      <th>City</th>\n",
       "      <th>Temperature</th>\n",
       "      <th>Weather</th>\n",
       "      <th>Humidity</th>\n",
       "    </tr>\n",
       "  </thead>\n",
       "  <tbody>\n",
       "    <tr>\n",
       "      <th>0</th>\n",
       "      <td>New York</td>\n",
       "      <td>-1.69</td>\n",
       "      <td>scattered clouds</td>\n",
       "      <td>49</td>\n",
       "    </tr>\n",
       "    <tr>\n",
       "      <th>1</th>\n",
       "      <td>London</td>\n",
       "      <td>12.55</td>\n",
       "      <td>overcast clouds</td>\n",
       "      <td>90</td>\n",
       "    </tr>\n",
       "    <tr>\n",
       "      <th>2</th>\n",
       "      <td>Tokyo</td>\n",
       "      <td>1.96</td>\n",
       "      <td>clear sky</td>\n",
       "      <td>37</td>\n",
       "    </tr>\n",
       "    <tr>\n",
       "      <th>3</th>\n",
       "      <td>Chicago</td>\n",
       "      <td>-4.93</td>\n",
       "      <td>overcast clouds</td>\n",
       "      <td>59</td>\n",
       "    </tr>\n",
       "    <tr>\n",
       "      <th>4</th>\n",
       "      <td>Paris</td>\n",
       "      <td>12.49</td>\n",
       "      <td>clear sky</td>\n",
       "      <td>93</td>\n",
       "    </tr>\n",
       "  </tbody>\n",
       "</table>\n",
       "</div>"
      ],
      "text/plain": [
       "       City  Temperature           Weather  Humidity\n",
       "0  New York        -1.69  scattered clouds        49\n",
       "1    London        12.55   overcast clouds        90\n",
       "2     Tokyo         1.96         clear sky        37\n",
       "3   Chicago        -4.93   overcast clouds        59\n",
       "4     Paris        12.49         clear sky        93"
      ]
     },
     "execution_count": 6,
     "metadata": {},
     "output_type": "execute_result"
    }
   ],
   "source": [
    "# Create DataFrame\n",
    "df = pd.DataFrame(weather_data)\n",
    "df"
   ]
  },
  {
   "cell_type": "code",
   "execution_count": 7,
   "id": "7c31ac90-95f6-456b-a2b1-f35248fc41d3",
   "metadata": {},
   "outputs": [
    {
     "data": {
      "image/png": "[encoded data removed]",
      "text/plain": [
       "<Figure size 1000x500 with 1 Axes>"
      ]
     },
     "metadata": {},
     "output_type": "display_data"
    }
   ],
   "source": [
    "# Create bar chart for temperatures\n",
    "plt.figure(figsize=(10, 5))\n",
    "plt.bar(df[\"City\"], df[\"Temperature\"])\n",
    "plt.xlabel(\"City\")\n",
    "plt.ylabel(\"Temperature (°C)\")\n",
    "plt.title(\"Current Temperature in Various Cities\")\n",
    "plt.show()"
   ]
  },
  {
   "cell_type": "code",
   "execution_count": 8,
   "id": "781fb243-c5a8-46a2-90ed-c5dbf321e113",
   "metadata": {},
   "outputs": [
    {
     "name": "stdout",
     "output_type": "stream",
     "text": [
      "Highest City: London (12.55°C)\n"
     ]
    }
   ],
   "source": [
    "##Find the Highest City\n",
    "highest_city = df.loc[df[\"Temperature\"].idxmax()]\n",
    "\n",
    "print(f\"Highest City: {highest_city['City']} ({highest_city['Temperature']}°C)\")"
   ]
  },
  {
   "cell_type": "code",
   "execution_count": 9,
   "id": "25c709b0-bf24-4859-88d4-e153bb181fdc",
   "metadata": {},
   "outputs": [
    {
     "name": "stdout",
     "output_type": "stream",
     "text": [
      "Lowest City: Chicago (-4.93°C)\n"
     ]
    }
   ],
   "source": [
    "##Find the Lowest City\n",
    "lowest_city = df.loc[df[\"Temperature\"].idxmin()]\n",
    "\n",
    "print(f\"Lowest City: {lowest_city['City']} ({lowest_city['Temperature']}°C)\")"
   ]
  },
  {
   "cell_type": "code",
   "execution_count": null,
   "id": "f87a9552-3fc9-4bb6-bb2a-c489490c2197",
   "metadata": {},
   "outputs": [],
   "source": []
  }
 ],
 "metadata": {
  "kernelspec": {
   "display_name": "Python 3 (ipykernel)",
   "language": "python",
   "name": "python3"
  },
  "language_info": {
   "codemirror_mode": {
    "name": "ipython",
    "version": 3
   },
   "file_extension": ".py",
   "mimetype": "text/x-python",
   "name": "python",
   "nbconvert_exporter": "python",
   "pygments_lexer": "ipython3",
   "version": "3.12.7"
  }
 },
 "nbformat": 4,
 "nbformat_minor": 5
}
